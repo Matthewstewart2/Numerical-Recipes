{
 "cells": [
  {
   "cell_type": "markdown",
   "metadata": {
    "deletable": false,
    "editable": false,
    "nbgrader": {
     "checksum": "315fee087a8e8665b302ad7e9b4ed014",
     "grade": false,
     "grade_id": "cell-f929f0b429c2f9f2",
     "locked": true,
     "schema_version": 1,
     "solution": false
    }
   },
   "source": [
    "# Checkpoint 1\n",
    "\n",
    "### Read This First\n",
    "**1. Use the constants provided in the cell below. Do not use your own constants.**\n",
    "\n",
    "**2. Put the code that produces the output for a given task in the specific cell indicated. You are welcome to add as many cells as you like for imports, function definitions, variables, etc. Additional cells need to be in the proper order such that your code runs the first time through.**"
   ]
  },
  {
   "cell_type": "markdown",
   "metadata": {
    "deletable": false,
    "editable": false,
    "nbgrader": {
     "checksum": "690bf3368d24b1328b5419916644b63a",
     "grade": false,
     "grade_id": "cell-00b461b536baa8b0",
     "locked": true,
     "schema_version": 1,
     "solution": false
    }
   },
   "source": [
    "The Coulomb law is given by:\n",
    "\n",
    "$\n",
    "\\Large\n",
    "\\begin{align}\n",
    "F(r) = -\\frac{e^{2}}{4 \\pi \\epsilon_{0} r^{2}} \\left( \\frac{r}{r_{0}} \\right)^{\\alpha},\n",
    "\\end{align}\n",
    "$\n",
    "\n",
    "where $r_{0}$ is the Bhor radius, given by:\n",
    "\n",
    "$\n",
    "\\Large\n",
    "\\begin{align}\n",
    "r_{0} = \\frac{4 \\pi \\epsilon_{0} \\hbar^{2}}{m e^{2}}.\n",
    "\\end{align}\n",
    "$\n",
    "\n",
    "The electric potential is given by:\n",
    "\n",
    "$\n",
    "\\Large\n",
    "\\begin{align}\n",
    "V(r) = \\int_{r}^{\\infty} F(r^{\\prime}) dr^{\\prime}\n",
    "\\end{align}\n",
    "$\n",
    "\n",
    "Use the following constants:\n",
    "* $\\frac{\\hbar^{2}}{2m} = 0.0380998\\ nm^{2} eV$ (called `c1` below)\n",
    "* $\\frac{e^{2}}{4 \\pi \\epsilon_{0}} = 1.43996\\ nm\\ eV$ (called `c2` below)\n",
    "* $r_{0} = 0.0529177\\ nm$ (called `r0` below)\n",
    "* Planck constant $h = 6.62606896\\times10^{-34} J s$ (`h`)\n",
    "* Speed of light $c = 299792458\\ m/s$ (`c`)"
   ]
  },
  {
   "cell_type": "code",
   "execution_count": 18,
   "metadata": {},
   "outputs": [],
   "source": [
    "# add imports here\n",
    "import numpy as np\n",
    "import matplotlib.pyplot as plt\n",
    "%matplotlib inline\n",
    "from scipy.integrate import quad\n",
    "from scipy.sparse import diags\n",
    "from scipy.sparse.linalg import eigs\n",
    "from scipy.optimize import brentq"
   ]
  },
  {
   "cell_type": "code",
   "execution_count": 19,
   "metadata": {
    "deletable": false,
    "editable": false,
    "nbgrader": {
     "checksum": "b6790997617156b5781458cf46b3754a",
     "grade": false,
     "grade_id": "cell-9913456206f72bf7",
     "locked": true,
     "schema_version": 1,
     "solution": false
    }
   },
   "outputs": [],
   "source": [
    "plt.rcParams['figure.figsize'] = (10, 6)\n",
    "plt.rcParams['font.size'] = 14"
   ]
  },
  {
   "cell_type": "code",
   "execution_count": 20,
   "metadata": {
    "deletable": false,
    "editable": false,
    "nbgrader": {
     "checksum": "496109a24e55b81c1ad0f8e4711ea518",
     "grade": false,
     "grade_id": "cell-c66763620c79f017",
     "locked": true,
     "schema_version": 1,
     "solution": false
    }
   },
   "outputs": [],
   "source": [
    "# Constants (use these)\n",
    "c1 = 0.0380998 # nm^2 eV\n",
    "c2 = 1.43996 # nm eV\n",
    "r0 = 0.0529177 # nm\n",
    "h  = 6.62606896e-34 # J s\n",
    "c  = 299792458. # m/s\n",
    "hc = 1239.8419 # eV nm"
   ]
  },
  {
   "cell_type": "markdown",
   "metadata": {
    "deletable": false,
    "editable": false,
    "nbgrader": {
     "checksum": "b4b7d541abd01c304207a86df9f580d5",
     "grade": false,
     "grade_id": "cell-ddbd12299834bcf9",
     "locked": true,
     "schema_version": 1,
     "solution": false
    }
   },
   "source": [
    "## Task 1\n",
    "\n",
    "Write a code that calculates $V(r)$ numerically for $\\alpha = 0.01$ and plots it for $r$ = 0.01...1 nm. Remember to label the axes."
   ]
  },
  {
   "cell_type": "code",
   "execution_count": 21,
   "metadata": {},
   "outputs": [],
   "source": [
    "alpha = 0.01\n",
    "r_min = 0.01\n",
    "r_max = 1\n",
    "interval = 0.01"
   ]
  },
  {
   "cell_type": "code",
   "execution_count": 22,
   "metadata": {},
   "outputs": [],
   "source": [
    "def calc_force(r, alpha):\n",
    "    return -1*c2*r**(-2)*(r/r0)**alpha"
   ]
  },
  {
   "cell_type": "code",
   "execution_count": 23,
   "metadata": {},
   "outputs": [],
   "source": [
    "def potential_numerical(r_lower, alpha):\n",
    "    ans, err = quad(calc_force, r_lower, np.inf, args=(alpha,))\n",
    "    return ans"
   ]
  },
  {
   "cell_type": "code",
   "execution_count": 24,
   "metadata": {
    "deletable": false,
    "nbgrader": {
     "checksum": "9a15fb93db84d9570695742ee70e4642",
     "grade": false,
     "grade_id": "cell-19b61f45c0da77f1",
     "locked": false,
     "schema_version": 1,
     "solution": true
    }
   },
   "outputs": [],
   "source": [
    "### TASK 1\n",
    "#where r_lower_array is array from 0.01...1\n",
    "#returns an array\n",
    "def get_V_array(r_lower_array, alpha):\n",
    "    potential_array = np.zeros(len(r_lower_array))\n",
    "    for i in range(len(r_lower_array)):\n",
    "        potential_array[i] = potential_numerical(r_lower_array[i], alpha)\n",
    "    return potential_array"
   ]
  },
  {
   "cell_type": "code",
   "execution_count": 25,
   "metadata": {},
   "outputs": [],
   "source": [
    "r_lower_array = np.arange(r_min, r_max + interval, interval)\n",
    "potential_array = get_V_array(r_lower_array, alpha)"
   ]
  },
  {
   "cell_type": "code",
   "execution_count": 26,
   "metadata": {
    "deletable": false,
    "nbgrader": {
     "checksum": "d9f32070f767e8bccf34844f6316236d",
     "grade": true,
     "grade_id": "cell-fa1faffe2cff65ce",
     "locked": false,
     "points": 1,
     "schema_version": 1,
     "solution": true
    }
   },
   "outputs": [
    {
     "data": {
      "image/png": "[encoded data removed]",
      "text/plain": [
       "<Figure size 720x432 with 1 Axes>"
      ]
     },
     "metadata": {
      "needs_background": "light"
     },
     "output_type": "display_data"
    }
   ],
   "source": [
    "### TASK 1\n",
    "# Plot V(r) here!\n",
    "plt.plot(r_lower_array, potential_array, 'g')\n",
    "plt.xlabel('r')\n",
    "plt.ylabel('Vnumerical(r)')\n",
    "plt.show()"
   ]
  },
  {
   "cell_type": "markdown",
   "metadata": {
    "deletable": false,
    "editable": false,
    "nbgrader": {
     "checksum": "92f356aa18d24393b5bec54f393da148",
     "grade": false,
     "grade_id": "cell-678a89b66171e6d3",
     "locked": true,
     "schema_version": 1,
     "solution": false
    }
   },
   "source": [
    "## Task 2\n",
    "\n",
    "In addition to (1), the test below will compare the analytic expression for $𝑉(r)$ with the numerically obtained values for $r$ = 0.01,0.02...1 nm. The biggest absolute difference $diff = max |V_{exact}(r) − V_{numerical}(r)|$ must be smaller than 10$^{−5}$ eV. There is nothing else for you to do."
   ]
  },
  {
   "cell_type": "code",
   "execution_count": 27,
   "metadata": {
    "deletable": false,
    "editable": false,
    "nbgrader": {
     "checksum": "0cb57cd809b5161814890d23cabce466",
     "grade": true,
     "grade_id": "cell-18a0198ee954ee3a",
     "locked": true,
     "points": 1,
     "schema_version": 1,
     "solution": false
    }
   },
   "outputs": [
    {
     "data": {
      "text/plain": [
       "-2.975081858428647"
      ]
     },
     "execution_count": 27,
     "metadata": {},
     "output_type": "execute_result"
    }
   ],
   "source": [
    "# We will call your function for one value of r and alpha = 0.01. There will be more tests!\n",
    "potential_numerical(0.5, 0.01)"
   ]
  },
  {
   "cell_type": "markdown",
   "metadata": {
    "deletable": false,
    "editable": false,
    "nbgrader": {
     "checksum": "c4d5ec124f352475542dbdc64f2f667e",
     "grade": false,
     "grade_id": "cell-77cc74c026259c0f",
     "locked": true,
     "schema_version": 1,
     "solution": false
    }
   },
   "source": [
    "## Task 3\n",
    "\n",
    "In addition to (2), calculate the first 2 energy levels (eigenvalues of $H$) for $\\alpha = 0, 0.01$ and print out the values in eV. The values must be accurate to 0.01 eV. This requires sufficiently large $r_{max}$ and $N$. Plot the difference $\\Delta E$ between the two energies for $\\alpha = 0, 0.01$. Remember to label the axes."
   ]
  },
  {
   "cell_type": "code",
   "execution_count": 28,
   "metadata": {},
   "outputs": [],
   "source": [
    "r_maximum = 4\n",
    "N = 2000\n",
    "start = r_maximum/N\n",
    "k = 2"
   ]
  },
  {
   "cell_type": "code",
   "execution_count": 29,
   "metadata": {},
   "outputs": [],
   "source": [
    "def get_r_array(start, r_maximum, N):\n",
    "    return np.linspace(start, r_maximum, N)"
   ]
  },
  {
   "cell_type": "code",
   "execution_count": 30,
   "metadata": {},
   "outputs": [],
   "source": [
    "def get_delta_r(r_maximum, N):\n",
    "    return r_maximum/N"
   ]
  },
  {
   "cell_type": "code",
   "execution_count": 31,
   "metadata": {
    "deletable": false,
    "nbgrader": {
     "checksum": "00698aa373d010f9dab385863172ae0a",
     "grade": false,
     "grade_id": "cell-f196598ea00db23e",
     "locked": false,
     "schema_version": 1,
     "solution": true
    }
   },
   "outputs": [],
   "source": [
    "### TASK 3\n",
    "def energy_levels(alpha):\n",
    "    new_V_array = get_V_array(new_r_array, alpha)\n",
    "    V_diagonals = [new_V_array]\n",
    "    V_matrix = diags(V_diagonals, [0])\n",
    "    H = -1*c1*delta_matrix + V_matrix\n",
    "    eigvals = eigs(H, k, which=\"SR\")[0]\n",
    "    eigvals = np.real(eigvals)\n",
    "    E1 = eigvals[0]\n",
    "    E2 = eigvals[1]\n",
    "    return E1, E2"
   ]
  },
  {
   "cell_type": "code",
   "execution_count": 32,
   "metadata": {},
   "outputs": [],
   "source": [
    "new_r_array = get_r_array(start, r_maximum, N)"
   ]
  },
  {
   "cell_type": "code",
   "execution_count": 33,
   "metadata": {},
   "outputs": [],
   "source": [
    "delta_diagonals = [np.full((N),  -2),\n",
    "             np.full((N-1), 1),\n",
    "             np.full((N-1), 1)]\n",
    "delta_r = get_delta_r(r_maximum, N)\n",
    "delta_matrix = (1/(delta_r**2))*diags(delta_diagonals, [0, -1, 1])"
   ]
  },
  {
   "cell_type": "code",
   "execution_count": 34,
   "metadata": {
    "deletable": false,
    "nbgrader": {
     "checksum": "1b2dad6e677e2420275a518b3782d203",
     "grade": true,
     "grade_id": "cell-0eb042d5e4a7759a",
     "locked": false,
     "points": 1,
     "schema_version": 1,
     "solution": true
    }
   },
   "outputs": [
    {
     "data": {
      "image/png": "[encoded data removed]",
      "text/plain": [
       "<Figure size 720x432 with 1 Axes>"
      ]
     },
     "metadata": {
      "needs_background": "light"
     },
     "output_type": "display_data"
    }
   ],
   "source": [
    "### TASK 3\n",
    "# Plot DeltaE(alpha) for alpha = 0,...,0.01 here!\n",
    "alpha_array = np.linspace(0, 0.01, 10)\n",
    "delta_E_array = np.zeros(len(alpha_array))\n",
    "\n",
    "for i in range(len(alpha_array)):\n",
    "    E_levels = energy_levels(alpha_array[i])\n",
    "    delta_E_array[i] = E_levels[1] - E_levels[0]\n",
    "    \n",
    "plt.plot(alpha_array, delta_E_array, 'k')\n",
    "plt.xlabel('alpha')\n",
    "plt.ylabel('(E2 - E1) eV')\n",
    "plt.show()"
   ]
  },
  {
   "cell_type": "code",
   "execution_count": 35,
   "metadata": {
    "deletable": false,
    "editable": false,
    "nbgrader": {
     "checksum": "4414341369251bf709454d02ab49bd62",
     "grade": true,
     "grade_id": "cell-fc23652c94718b32",
     "locked": true,
     "points": 1,
     "schema_version": 1,
     "solution": false
    }
   },
   "outputs": [
    {
     "name": "stdout",
     "output_type": "stream",
     "text": [
      "alpha = 0.00: (-13.600759577187002, -3.4011000744962137)\n",
      "alpha = 0.01: (-13.803085747045612, -3.5343628301157524)\n"
     ]
    }
   ],
   "source": [
    "# Print out the energy levels for alpha = 0, 0.01.\n",
    "e_levels_0 = energy_levels(0.0)\n",
    "e_levels_0_01 = energy_levels(0.01)\n",
    "print (\"alpha = 0.00:\", e_levels_0)\n",
    "print (\"alpha = 0.01:\", e_levels_0_01)"
   ]
  },
  {
   "cell_type": "markdown",
   "metadata": {
    "deletable": false,
    "editable": false,
    "nbgrader": {
     "checksum": "3519e8363c45fba424468017553fd09b",
     "grade": false,
     "grade_id": "cell-547de7c76197f8d2",
     "locked": true,
     "schema_version": 1,
     "solution": false
    }
   },
   "source": [
    "## Task 4\n",
    "\n",
    "In addition to (3), assuming that the transition between the 1st excited and the ground state corresponds to the wavelength $\\lambda = 121.5 \\pm 0.1$ nm, what is the maximum value of $\\alpha_{max} > 0$ consistent with this measurement (i.e., the largest $\\alpha_{max} > 0$ such that the predicted and measured wavelengths differ by less than 0.1 nm)?"
   ]
  },
  {
   "cell_type": "code",
   "execution_count": 36,
   "metadata": {},
   "outputs": [],
   "source": [
    "def E_func(alpha):\n",
    "    E_levels = energy_levels(alpha)\n",
    "    delta_E = E_levels[1] - E_levels[0]\n",
    "    return delta_E - hc/(121.5-0.1)"
   ]
  },
  {
   "cell_type": "code",
   "execution_count": 37,
   "metadata": {
    "deletable": false,
    "nbgrader": {
     "checksum": "1926950af1c7291299007deecdaa7d22",
     "grade": false,
     "grade_id": "cell-c0d47efa2e971212",
     "locked": false,
     "schema_version": 1,
     "solution": true
    }
   },
   "outputs": [],
   "source": [
    "### TASK 4\n",
    "def find_alpha_max():\n",
    "    alpha_max = brentq(E_func, 0, 0.01)\n",
    "    return alpha_max"
   ]
  },
  {
   "cell_type": "code",
   "execution_count": 38,
   "metadata": {
    "deletable": false,
    "editable": false,
    "nbgrader": {
     "checksum": "7d93cbd02ec1b49d9f572d3b0af2654c",
     "grade": true,
     "grade_id": "cell-00bed43810c0e700",
     "locked": true,
     "points": 1,
     "schema_version": 1,
     "solution": false
    }
   },
   "outputs": [
    {
     "name": "stdout",
     "output_type": "stream",
     "text": [
      "alpha_max: 0.001930690762661799\n"
     ]
    }
   ],
   "source": [
    "# Run the function and print alpha_max.\n",
    "alpha_max = find_alpha_max()\n",
    "print (\"alpha_max:\", alpha_max)"
   ]
  },
  {
   "cell_type": "markdown",
   "metadata": {
    "deletable": false,
    "editable": false,
    "nbgrader": {
     "checksum": "93f90de2b9e64c1d6b9c50b95e0e405b",
     "grade": false,
     "grade_id": "cell-2aaf30fbd8a5ef71",
     "locked": true,
     "schema_version": 1,
     "solution": false
    }
   },
   "source": [
    "## Task 5\n",
    "\n",
    "Improve the accuracy of the computation of the two energy levels to 0.001 eV and find $\\alpha_{max}$ assuming the wavelength $\\lambda = 121.503 \\pm 0.01$ nm."
   ]
  },
  {
   "cell_type": "code",
   "execution_count": 39,
   "metadata": {},
   "outputs": [],
   "source": [
    "r_maximum = 4\n",
    "N = 4000\n",
    "start = r_maximum/N\n",
    "#takes long time"
   ]
  },
  {
   "cell_type": "code",
   "execution_count": 40,
   "metadata": {},
   "outputs": [],
   "source": [
    "def E_func_improved(alpha):\n",
    "    E_levels = energy_levels(alpha)\n",
    "    delta_E = E_levels[1] - E_levels[0]\n",
    "    return delta_E - hc/(121.503-0.01)"
   ]
  },
  {
   "cell_type": "code",
   "execution_count": 41,
   "metadata": {
    "deletable": false,
    "nbgrader": {
     "checksum": "86a767a9f016bd50d5f5dd011356b96a",
     "grade": false,
     "grade_id": "cell-e42b7ae120a58a99",
     "locked": false,
     "schema_version": 1,
     "solution": true
    }
   },
   "outputs": [],
   "source": [
    "### TASK 5\n",
    "def energy_levels_improved(alpha):\n",
    "    new_V_array = get_V_array(new_r_array, alpha)\n",
    "    V_diagonals = [new_V_array]\n",
    "    V_matrix = diags(V_diagonals, [0])\n",
    "    H = -1*c1*delta_matrix + V_matrix\n",
    "    eigvals = eigs(H, k, which=\"SR\")[0]\n",
    "    eigvals = np.real(eigvals)\n",
    "    E1 = eigvals[0]\n",
    "    E2 = eigvals[1]\n",
    "    return E1, E2\n",
    "\n",
    "def find_alpha_max_improved():\n",
    "    alpha_max = brentq(E_func_improved, 0, 0.01)\n",
    "    return alpha_max"
   ]
  },
  {
   "cell_type": "code",
   "execution_count": 42,
   "metadata": {
    "deletable": false,
    "editable": false,
    "nbgrader": {
     "checksum": "0ebb40a99841a096d2ee12343f233354",
     "grade": true,
     "grade_id": "cell-c5e8f8c0ae2aa71f",
     "locked": true,
     "points": 1,
     "schema_version": 1,
     "solution": false
    }
   },
   "outputs": [
    {
     "name": "stdout",
     "output_type": "stream",
     "text": [
      "alpha = 0.01: (-13.803085747047563, -3.5343628301190337)\n",
      "alpha_max: 0.0007888667521146894\n"
     ]
    }
   ],
   "source": [
    "# Run the function and print alpha_max.\n",
    "e_levels_0_01 = energy_levels_improved(0.01)\n",
    "print (\"alpha = 0.01:\", e_levels_0_01)\n",
    "# Run the function and print alpha_max.\n",
    "alpha_max_improved = find_alpha_max_improved()\n",
    "print (\"alpha_max:\", alpha_max_improved)"
   ]
  },
  {
   "cell_type": "markdown",
   "metadata": {
    "deletable": false,
    "editable": false,
    "nbgrader": {
     "checksum": "80cecbfebef754b069b877d69559b1a2",
     "grade": false,
     "grade_id": "cell-f7de0ebd0405e762",
     "locked": true,
     "schema_version": 1,
     "solution": false
    }
   },
   "source": [
    "## Task 6\n",
    "\n",
    "How would one achieve the same accuracy with significantly smaller matrices? Hint: can we represent $R$ from Eq. (1) as a linear combination of functions that solve the \"unperturbed\" equation, and translate this into an eigenproblem for a certain $N \\times N$ matrix, with $N < 100$?"
   ]
  },
  {
   "cell_type": "code",
   "execution_count": 49,
   "metadata": {},
   "outputs": [],
   "source": [
    "r_maximum = 2\n",
    "N = 99\n",
    "start = r_maximum/N\n",
    "epsilon = 0.0002875"
   ]
  },
  {
   "cell_type": "code",
   "execution_count": 50,
   "metadata": {
    "deletable": false,
    "nbgrader": {
     "checksum": "9987c3035ceffbeefd59c74786feafd8",
     "grade": false,
     "grade_id": "cell-d396d5b5b764f5a8",
     "locked": false,
     "schema_version": 1,
     "solution": true
    }
   },
   "outputs": [],
   "source": [
    "### TASK 6\n",
    "def energy_levels_best(alpha):\n",
    "    new_V_array = get_V_array(new_r_array, alpha)\n",
    "    V_diagonals = [new_V_array]\n",
    "    V_matrix = diags(V_diagonals, [0])\n",
    "    eigvals = eigs(V_matrix, k, which=\"SR\")[0]\n",
    "    eigvals = np.real(eigvals)\n",
    "    E1 = e_levels_0[0] + epsilon*eigvals[0]\n",
    "    E2 = e_levels_0[1] + epsilon*eigvals[1]\n",
    "    return E1, E2\n",
    "\n",
    "def find_alpha_max_best():\n",
    "    alpha_max = brentq(E_func_improved, 0, 0.01)\n",
    "    return alpha_max"
   ]
  },
  {
   "cell_type": "code",
   "execution_count": 51,
   "metadata": {},
   "outputs": [],
   "source": [
    "e_levels_0 = energy_levels_improved(0.0)"
   ]
  },
  {
   "cell_type": "code",
   "execution_count": 52,
   "metadata": {
    "deletable": false,
    "editable": false,
    "nbgrader": {
     "checksum": "cea78b0f17d8ad803a168c34f93803c7",
     "grade": true,
     "grade_id": "cell-7cad205f27680c87",
     "locked": true,
     "points": 1,
     "schema_version": 1,
     "solution": false
    }
   },
   "outputs": [
    {
     "name": "stdout",
     "output_type": "stream",
     "text": [
      "alpha = 0.01: (-13.803106860182488, -3.5029774343239244)\n",
      "alpha_max: 0.0007888667526147852\n"
     ]
    }
   ],
   "source": [
    "# Run the function and print alpha_max.\n",
    "e_levels_0_01 = energy_levels_best(0.01)\n",
    "print (\"alpha = 0.01:\", e_levels_0_01)\n",
    "# Run the function and print alpha_max.\n",
    "alpha_max_best = find_alpha_max_best()\n",
    "print (\"alpha_max:\", alpha_max_best)"
   ]
  },
  {
   "cell_type": "code",
   "execution_count": 53,
   "metadata": {},
   "outputs": [],
   "source": [
    "def energy_levels_best2(alpha):\n",
    "    new_V_array = get_V_array(new_r_array, alpha) - get_V_array(new_r_array, 0)\n",
    "    V_diagonals = [new_V_array]\n",
    "    V_matrix = diags(V_diagonals, [0])\n",
    "    eigvals = eigs(V_matrix, k, which=\"SR\")[0]\n",
    "    eigvals = np.real(eigvals)\n",
    "    E1 = e_levels_0[0] + eigvals[0]\n",
    "    E2 = e_levels_0[1] + eigvals[1]\n",
    "    return E1, E2"
   ]
  },
  {
   "cell_type": "code",
   "execution_count": 54,
   "metadata": {},
   "outputs": [
    {
     "name": "stdout",
     "output_type": "stream",
     "text": [
      "alpha = 0.01: (-13.87557918008591, -3.675906776053763)\n"
     ]
    }
   ],
   "source": [
    "e_levels_0_01 = energy_levels_best2(0.01)\n",
    "print (\"alpha = 0.01:\", e_levels_0_01)"
   ]
  },
  {
   "cell_type": "code",
   "execution_count": null,
   "metadata": {},
   "outputs": [],
   "source": []
  }
 ],
 "metadata": {
  "kernelspec": {
   "display_name": "Python 3",
   "language": "python",
   "name": "python3"
  },
  "language_info": {
   "codemirror_mode": {
    "name": "ipython",
    "version": 3
   },
   "file_extension": ".py",
   "mimetype": "text/x-python",
   "name": "python",
   "nbconvert_exporter": "python",
   "pygments_lexer": "ipython3",
   "version": "3.6.5"
  }
 },
 "nbformat": 4,
 "nbformat_minor": 2
}
