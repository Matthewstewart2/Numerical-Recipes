{
 "cells": [
  {
   "cell_type": "markdown",
   "metadata": {
    "deletable": false,
    "editable": false,
    "nbgrader": {
     "checksum": "36e37ba10d7434ae7fb33aeb40b54f0c",
     "grade": false,
     "grade_id": "cell-f929f0b429c2f9f2",
     "locked": true,
     "schema_version": 1,
     "solution": false
    }
   },
   "source": [
    "# Checkpoint 1, Part 1\n",
    "\n",
    "**The checkpoint will be handed in as a single notebook. The template for the final notebook will be distributed at a later date. The due date for checkpoint 1 will be 5:00pm on the third day following the workshop to which you have been allocated. Exact dates are below.**\n",
    "\n",
    "### Due dates:\n",
    "* Tuesday workshop: Friday, 11 October, 2019 at 5:00pm\n",
    "* Friday workshop: Monday, 14 October, 2019 at 5:00pm\n",
    "\n",
    "The goals for Checkpoint 1, Part 1 are to complete the first two tasks:\n",
    "\n",
    "1. Write a code that calculates V(r) numerically for $\\alpha$=0.1 and plots it for r=0.01...1nm.\n",
    "\n",
    "2. Compare the analytic expression for V(r) (what is it?) with numerically obtained values for r=0.01,0.02...1nm. The biggest relative difference,\n",
    "$\n",
    "\\large\n",
    "\\begin{align}\n",
    "|V_{exact}(r)-V_{numerical}(r)|\n",
    "\\end{align}\n",
    "$\n",
    "must be smaller than 10$^{-5}$ eV."
   ]
  },
  {
   "cell_type": "markdown",
   "metadata": {
    "deletable": false,
    "editable": false,
    "nbgrader": {
     "checksum": "690bf3368d24b1328b5419916644b63a",
     "grade": false,
     "grade_id": "cell-00b461b536baa8b0",
     "locked": true,
     "schema_version": 1,
     "solution": false
    }
   },
   "source": [
    "The Coulomb law is given by:\n",
    "\n",
    "$\n",
    "\\Large\n",
    "\\begin{align}\n",
    "F(r) = -\\frac{e^{2}}{4 \\pi \\epsilon_{0} r^{2}} \\left( \\frac{r}{r_{0}} \\right)^{\\alpha},\n",
    "\\end{align}\n",
    "$\n",
    "\n",
    "where $r_{0}$ is the Bhor radius, given by:\n",
    "\n",
    "$\n",
    "\\Large\n",
    "\\begin{align}\n",
    "r_{0} = \\frac{4 \\pi \\epsilon_{0} \\hbar^{2}}{m e^{2}}.\n",
    "\\end{align}\n",
    "$\n",
    "\n",
    "The electric potential is given by:\n",
    "\n",
    "$\n",
    "\\Large\n",
    "\\begin{align}\n",
    "V(r) = \\int_{r}^{\\infty} F(r^{\\prime}) dr^{\\prime}\n",
    "\\end{align}\n",
    "$\n",
    "\n",
    "Use the following constants:\n",
    "* $\\frac{\\hbar^{2}}{2m} = 0.0380998\\ nm^{2} eV$ (called `c1` below)\n",
    "* $\\frac{e^{2}}{4 \\pi \\epsilon_{0}} = 1.43996\\ nm\\ eV$ (called `c2` below)\n",
    "* $r_{0} = 0.0529177\\ nm$ (called `r0` below)\n",
    "* Planck constant $h = 6.62606896\\times10^{-34} J s$ (`h`)\n",
    "* Speed of light $c = 299792458\\ m/s$ (`c`)"
   ]
  },
  {
   "cell_type": "code",
   "execution_count": 40,
   "metadata": {},
   "outputs": [],
   "source": [
    "import numpy as np\n",
    "import matplotlib.pyplot as plt\n",
    "%matplotlib inline\n",
    "from scipy.integrate import quad\n",
    "\n",
    "from scipy.sparse import diags\n",
    "from scipy.sparse.linalg import eigs\n",
    "\n",
    "from scipy.optimize import brentq"
   ]
  },
  {
   "cell_type": "code",
   "execution_count": 41,
   "metadata": {
    "deletable": false,
    "editable": false,
    "nbgrader": {
     "checksum": "a6cafd446533386398a8fd1f526f5183",
     "grade": false,
     "grade_id": "cell-c66763620c79f017",
     "locked": true,
     "schema_version": 1,
     "solution": false
    }
   },
   "outputs": [],
   "source": [
    "# Constants\n",
    "c1 = 0.0380998 # nm^2 eV\n",
    "c2 = 1.43996 # nm eV\n",
    "r0 = 0.0529177 # nm\n",
    "h  = 6.62606896e-34 # J s\n",
    "c  = 299792458. # m/s"
   ]
  },
  {
   "cell_type": "code",
   "execution_count": 42,
   "metadata": {},
   "outputs": [],
   "source": [
    "alpha = 0.01\n",
    "r_min = 0.01\n",
    "r_max = 1\n",
    "interval = 0.01"
   ]
  },
  {
   "cell_type": "code",
   "execution_count": 43,
   "metadata": {},
   "outputs": [],
   "source": [
    "def calc_force(r, alpha):\n",
    "    return -1*c2*r**(-2)*(r/r0)**alpha"
   ]
  },
  {
   "cell_type": "code",
   "execution_count": 44,
   "metadata": {},
   "outputs": [],
   "source": [
    "def calc_potential(r_lower, alpha):\n",
    "    ans, err = quad(calc_force, r_lower, np.inf, args=(alpha,))\n",
    "    return ans, err"
   ]
  },
  {
   "cell_type": "code",
   "execution_count": 45,
   "metadata": {},
   "outputs": [],
   "source": [
    "r_lower_array = np.arange(r_min, r_max + interval, interval)\n",
    "#print(r_lower_array)"
   ]
  },
  {
   "cell_type": "code",
   "execution_count": 46,
   "metadata": {},
   "outputs": [],
   "source": [
    "def get_V_array(r_lower_array, alpha):\n",
    "    potential_array = np.zeros(len(r_lower_array))\n",
    "    error_array = np.zeros(len(r_lower_array))\n",
    "    for i in range(len(r_lower_array)):\n",
    "        potential_array[i] = calc_potential(r_lower_array[i], alpha)[0]\n",
    "        error_array[i] = calc_potential(r_lower_array[i], alpha)[1]\n",
    "    return potential_array\n",
    "\n",
    "potential_array = get_V_array(r_lower_array, alpha)\n",
    "#print(potential_array)"
   ]
  },
  {
   "cell_type": "code",
   "execution_count": 47,
   "metadata": {},
   "outputs": [
    {
     "data": {
      "image/png": "[encoded data removed]",
      "text/plain": [
       "<Figure size 432x288 with 1 Axes>"
      ]
     },
     "metadata": {
      "needs_background": "light"
     },
     "output_type": "display_data"
    }
   ],
   "source": [
    "plt.plot(r_lower_array, potential_array, 'g')\n",
    "plt.xlabel('r')\n",
    "plt.ylabel('Vnumerical(r)')\n",
    "plt.show()"
   ]
  },
  {
   "cell_type": "code",
   "execution_count": 48,
   "metadata": {},
   "outputs": [],
   "source": [
    "#analytical solution done outside program\n",
    "def potential_analytical(r):\n",
    "    return -c2/(r0**alpha*(1-alpha)*r**(1-alpha))"
   ]
  },
  {
   "cell_type": "code",
   "execution_count": 49,
   "metadata": {},
   "outputs": [
    {
     "data": {
      "image/png": "[encoded data removed]",
      "text/plain": [
       "<Figure size 432x288 with 1 Axes>"
      ]
     },
     "metadata": {
      "needs_background": "light"
     },
     "output_type": "display_data"
    }
   ],
   "source": [
    "plt.plot(r_lower_array, potential_analytical(r_lower_array), 'r')\n",
    "plt.xlabel('r')\n",
    "plt.ylabel('Vexact(r)')\n",
    "plt.show()"
   ]
  },
  {
   "cell_type": "code",
   "execution_count": 50,
   "metadata": {},
   "outputs": [
    {
     "data": {
      "image/png": "[encoded data removed]",
      "text/plain": [
       "<Figure size 432x288 with 1 Axes>"
      ]
     },
     "metadata": {
      "needs_background": "light"
     },
     "output_type": "display_data"
    },
    {
     "name": "stdout",
     "output_type": "stream",
     "text": [
      "greatest difference: 2.984279490192421e-11 eV\n",
      "at r = [0.01]\n"
     ]
    }
   ],
   "source": [
    "diff_array = abs(potential_analytical(r_lower_array) - potential_array)\n",
    "\n",
    "plt.plot(r_lower_array, diff_array, 'b')\n",
    "plt.xlabel('r')\n",
    "plt.ylabel('|Vexact(r) - Vnumerical(r)|')\n",
    "plt.show()\n",
    "\n",
    "print('greatest difference: ' + str(max(diff_array)) + ' eV')\n",
    "index = np.where(diff_array == max(diff_array))[0]\n",
    "print('at r = ' + str(r_lower_array[index]))"
   ]
  },
  {
   "cell_type": "code",
   "execution_count": 51,
   "metadata": {},
   "outputs": [],
   "source": [
    "r_maximum = 4\n",
    "N = 2000\n",
    "start = r_maximum/N\n",
    "k = 2"
   ]
  },
  {
   "cell_type": "code",
   "execution_count": 52,
   "metadata": {},
   "outputs": [],
   "source": [
    "def get_r_array(start, r_maximum, N):\n",
    "    return np.linspace(start, r_maximum, N)"
   ]
  },
  {
   "cell_type": "code",
   "execution_count": 53,
   "metadata": {},
   "outputs": [],
   "source": [
    "new_r_array = get_r_array(start, r_maximum, N)"
   ]
  },
  {
   "cell_type": "code",
   "execution_count": 54,
   "metadata": {},
   "outputs": [],
   "source": [
    "def get_delta_r(r_maximum, N):\n",
    "    return r_maximum/N"
   ]
  },
  {
   "cell_type": "code",
   "execution_count": 55,
   "metadata": {},
   "outputs": [],
   "source": [
    "delta_diagonals = [np.full((N),  -2),\n",
    "             np.full((N-1), 1),\n",
    "             np.full((N-1), 1)]\n",
    "\n",
    "delta_r = get_delta_r(r_maximum, N)\n",
    "\n",
    "delta_matrix = (1/(delta_r**2))*diags(delta_diagonals, [0, -1, 1])"
   ]
  },
  {
   "cell_type": "code",
   "execution_count": 56,
   "metadata": {},
   "outputs": [
    {
     "name": "stdout",
     "output_type": "stream",
     "text": [
      "First two energy levels in eV:\n",
      "For alpha=0,\n",
      "[-13.60075958  -3.40110007]\n",
      "For alpha=0.01,\n",
      "[-13.80308575  -3.53436283]\n"
     ]
    }
   ],
   "source": [
    "def get_eigvals(k, alpha, new_r_array):\n",
    "    new_V_array = get_V_array(new_r_array, alpha)\n",
    "    V_diagonals = [new_V_array]\n",
    "    V_matrix = diags(V_diagonals, [0])\n",
    "    H = -1*c1*delta_matrix + V_matrix\n",
    "    eigvals, eigvecs = eigs(H, k, which=\"SR\")\n",
    "    eigvals = np.real(eigvals)\n",
    "    return eigvals, eigvecs\n",
    "\n",
    "eigvals0 = get_eigvals(k, 0, new_r_array)[0]\n",
    "eigvals001 = get_eigvals(k, 0.01, new_r_array)[0]\n",
    "print('First two energy levels in eV:')\n",
    "print('For alpha=0,')\n",
    "print(eigvals0)\n",
    "print('For alpha=0.01,')\n",
    "print(eigvals001)"
   ]
  },
  {
   "cell_type": "code",
   "execution_count": 57,
   "metadata": {},
   "outputs": [
    {
     "data": {
      "image/png": "[encoded data removed]",
      "text/plain": [
       "<Figure size 432x288 with 1 Axes>"
      ]
     },
     "metadata": {
      "needs_background": "light"
     },
     "output_type": "display_data"
    }
   ],
   "source": [
    "alpha_array = np.linspace(0, 0.01, 10)\n",
    "delta_E_array = np.zeros(len(alpha_array))\n",
    "\n",
    "for i in range(len(alpha_array)):\n",
    "    E_levels = get_eigvals(k, alpha_array[i], new_r_array)[0]\n",
    "    delta_E_array[i] = E_levels[1] - E_levels[0]\n",
    "    \n",
    "plt.plot(alpha_array, delta_E_array, 'k')\n",
    "plt.xlabel('alpha')\n",
    "plt.ylabel('(E2 - E1) eV')\n",
    "plt.show()"
   ]
  },
  {
   "cell_type": "code",
   "execution_count": 58,
   "metadata": {},
   "outputs": [],
   "source": [
    "def E_func(alpha):\n",
    "    E_levels = get_eigvals(k, alpha, new_r_array)[0]\n",
    "    delta_E = E_levels[1] - E_levels[0]\n",
    "    return delta_E - h*c/(121.502*10**(-9)*1.60217662*10**(-19))"
   ]
  },
  {
   "cell_type": "code",
   "execution_count": 59,
   "metadata": {},
   "outputs": [],
   "source": [
    "def get_max_alpha(a1, a2):\n",
    "    max_alpha = brentq(E_func, a1, a2)\n",
    "    return max_alpha"
   ]
  },
  {
   "cell_type": "code",
   "execution_count": 61,
   "metadata": {},
   "outputs": [
    {
     "name": "stdout",
     "output_type": "stream",
     "text": [
      "max alpha: 0.0006781397451577841\n"
     ]
    }
   ],
   "source": [
    "max_alpha = get_max_alpha(0, 0.01)\n",
    "print('max alpha: ' + str(max_alpha))"
   ]
  },
  {
   "cell_type": "code",
   "execution_count": 62,
   "metadata": {},
   "outputs": [
    {
     "name": "stdout",
     "output_type": "stream",
     "text": [
      "10.204291061033791\n"
     ]
    }
   ],
   "source": [
    "E_levels = get_eigvals(k, max_alpha, new_r_array)[0]\n",
    "delta_E = E_levels[1] - E_levels[0]\n",
    "print(delta_E)"
   ]
  },
  {
   "cell_type": "code",
   "execution_count": null,
   "metadata": {},
   "outputs": [],
   "source": []
  }
 ],
 "metadata": {
  "kernelspec": {
   "display_name": "Python 3",
   "language": "python",
   "name": "python3"
  },
  "language_info": {
   "codemirror_mode": {
    "name": "ipython",
    "version": 3
   },
   "file_extension": ".py",
   "mimetype": "text/x-python",
   "name": "python",
   "nbconvert_exporter": "python",
   "pygments_lexer": "ipython3",
   "version": "3.6.5"
  }
 },
 "nbformat": 4,
 "nbformat_minor": 2
}
