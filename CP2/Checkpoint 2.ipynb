{
 "cells": [
  {
   "cell_type": "markdown",
   "metadata": {
    "deletable": true,
    "editable": true,
    "nbgrader": {
     "grade": "false",
     "grade_id": "grade",
     "locked": "false",
     "schema_version": 1,
     "solution": "false"
    }
   },
   "source": [
    "# Grade: A3/B\n",
    "\n",
    "### Notes: tasks 1-4 correct, task 5 fails the accuracy test (I could not understand what you wanted to do there), task 6 not implemented.\n",
    "### I am not sure why you split the code into so many cells, you could have had one cell per task. You also have cells that print out/plot unnecessary staff. I have lowered you the mark for this because I found the code very confusing - you should have cleaned it up a bit."
   ]
  },
  {
   "cell_type": "markdown",
   "metadata": {
    "deletable": false,
    "editable": false,
    "nbgrader": {
     "checksum": "88fee4014b590ae959f5db484be1c0eb",
     "grade": false,
     "grade_id": "cell-9f9ecd29ebcbe850",
     "locked": true,
     "schema_version": 1,
     "solution": false
    }
   },
   "source": [
    "# Checkpoint 2"
   ]
  },
  {
   "cell_type": "code",
   "execution_count": 1,
   "metadata": {
    "collapsed": true,
    "deletable": true,
    "editable": true
   },
   "outputs": [],
   "source": [
    "from datetime import datetime\n",
    "import matplotlib.pyplot as plt\n",
    "%matplotlib inline\n",
    "import numpy as np\n",
    "from scipy import integrate\n",
    "from scipy.optimize import minimize_scalar\n",
    "from scipy import stats"
   ]
  },
  {
   "cell_type": "code",
   "execution_count": 2,
   "metadata": {
    "collapsed": true,
    "deletable": true,
    "editable": true
   },
   "outputs": [],
   "source": [
    "from mpl_toolkits.mplot3d import Axes3D\n",
    "from matplotlib import cm"
   ]
  },
  {
   "cell_type": "code",
   "execution_count": 3,
   "metadata": {
    "collapsed": true,
    "deletable": false,
    "editable": false,
    "nbgrader": {
     "checksum": "6d591bffc6fd1203414df768ac0b25aa",
     "grade": false,
     "grade_id": "cell-72714a309439f62d",
     "locked": true,
     "schema_version": 1,
     "solution": false
    }
   },
   "outputs": [],
   "source": [
    "plt.rcParams['figure.figsize'] = (10, 6)\n",
    "plt.rcParams['font.size'] = 16"
   ]
  },
  {
   "cell_type": "code",
   "execution_count": 4,
   "metadata": {
    "collapsed": true,
    "deletable": false,
    "editable": false,
    "nbgrader": {
     "checksum": "8c34ef76b1c9bbd5f73bbe407efaf567",
     "grade": false,
     "grade_id": "cell-1b475d24f61581ee",
     "locked": true,
     "schema_version": 1,
     "solution": false
    }
   },
   "outputs": [],
   "source": [
    "# Constants\n",
    "G       = 6.67408e-11 # m^3 s^-1 kg^-2\n",
    "AU      = 149.597e9 # m\n",
    "Mearth  = 5.9721986e24 # kg\n",
    "Mmars   = 6.41693e23 # kg\n",
    "Msun    = 1.988435e30 # kg\n",
    "day2sec = 3600 * 24 # seconds in one day"
   ]
  },
  {
   "cell_type": "markdown",
   "metadata": {
    "deletable": false,
    "editable": false,
    "nbgrader": {
     "checksum": "aae179449d9201efe04da666517a2c17",
     "grade": false,
     "grade_id": "cell-55f37f11c1fc43b3",
     "locked": true,
     "schema_version": 1,
     "solution": false
    }
   },
   "source": [
    "## Initial Conditions\n",
    "Below are the initial positions and velocities for Earth and Mars."
   ]
  },
  {
   "cell_type": "code",
   "execution_count": 5,
   "metadata": {
    "collapsed": true,
    "deletable": false,
    "editable": false,
    "nbgrader": {
     "checksum": "e22890724abf6be4c0ba18f33e448ba5",
     "grade": false,
     "grade_id": "cell-df492ed51a81990b",
     "locked": true,
     "schema_version": 1,
     "solution": false
    }
   },
   "outputs": [],
   "source": [
    "# positions and velocities at t=0 (2019/6/2)\n",
    "rs = [[-4.8957151e10, -1.4359284e11, 501896.65],  # Earth\n",
    "      [-1.1742901e11, 2.1375285e11, 7.3558899e9]] # Mars (units of m)\n",
    "vs = [[27712., -9730., -0.64148], # Earth\n",
    "      [-20333., -9601., 300.34]]  # Mars (units of m/s)"
   ]
  },
  {
   "cell_type": "markdown",
   "metadata": {
    "deletable": false,
    "editable": false,
    "nbgrader": {
     "checksum": "2c2f62dafb8e4d7f5e1840f7d82880b6",
     "grade": false,
     "grade_id": "cell-b278c5eb67764df3",
     "locked": true,
     "schema_version": 1,
     "solution": false
    }
   },
   "source": [
    "## Historical Positions\n",
    "Below are historical positions for Earth and Mars at t=-1000 days prior to 2019/6/2. These will be used in tasks 5 and 6."
   ]
  },
  {
   "cell_type": "code",
   "execution_count": 6,
   "metadata": {
    "collapsed": true,
    "deletable": false,
    "editable": false,
    "nbgrader": {
     "checksum": "511df99f912b1ee08cbbe69ee9eeec82",
     "grade": false,
     "grade_id": "cell-e5f59858932960fb",
     "locked": true,
     "schema_version": 1,
     "solution": false
    }
   },
   "outputs": [],
   "source": [
    "# positions of the planets at (2019/6/2)-1000 days\n",
    "rspast = [[1.44109e11, -4.45267e10, -509142.],   # Earth\n",
    "          [1.11393e11, -1.77611e11, -6.45385e9]] # Mars"
   ]
  },
  {
   "cell_type": "markdown",
   "metadata": {
    "deletable": false,
    "editable": false,
    "nbgrader": {
     "checksum": "9846ce92e819f8e9aff96316801d5799",
     "grade": false,
     "grade_id": "cell-aefd1cf47f53ebf2",
     "locked": true,
     "schema_version": 1,
     "solution": false
    }
   },
   "source": [
    "## Earth/Mars functions\n",
    "Below are functions for the equations of motion (the vector of 1st derivtives) for Earth and Mars and for calculating the angle between Earth and Mars."
   ]
  },
  {
   "cell_type": "code",
   "execution_count": 7,
   "metadata": {
    "collapsed": true,
    "deletable": false,
    "editable": false,
    "nbgrader": {
     "checksum": "6bda00cd84da0486ff816aa7f731431b",
     "grade": false,
     "grade_id": "cell-ec7fcffded389b15",
     "locked": true,
     "schema_version": 1,
     "solution": false
    }
   },
   "outputs": [],
   "source": [
    "def earth_mars_motion(t, y):\n",
    "    \"\"\"\n",
    "    # order of variables\n",
    "    # 0,1,2 rx,ry,rz for Earth\n",
    "    # 3,4,5 rx,ry,rz for Mars\n",
    "    # 6,7,8 vx,vy,vz for Earth\n",
    "    # 9,10,11 vx,vy,vz for Mars\n",
    "\n",
    "    # order of derivatives:\n",
    "    # 0,1,2 Drx,Dry,Drz for Earth\n",
    "    # 3,4,5 Drx,Dry,Drz for Mars\n",
    "    # 6,7,8 Dvx,Dvy,Dvz for Earth\n",
    "    # 9,10,11 Dvx,Dvy,Dvy for Mars\n",
    "    \"\"\"\n",
    "\n",
    "    rx1,ry1,rz1, rx2,ry2,rz2, vx1,vy1,vz1, vx2,vy2,vz2 = y\n",
    "    drx1 = vx1\n",
    "    dry1 = vy1\n",
    "    drz1 = vz1\n",
    "    drx2 = vx2\n",
    "    dry2 = vy2\n",
    "    drz2 = vz2\n",
    "    \n",
    "    GMmars  = G*Mmars\n",
    "    GMearth = G*Mearth\n",
    "    GMsun   = G*Msun\n",
    "    \n",
    "    rx12 = rx1 - rx2\n",
    "    ry12 = ry1 - ry2\n",
    "    rz12 = rz1 - rz2\n",
    "    xy12 = np.power(np.power(rx12,2) + 2*np.power(ry12,2),1.5)\n",
    "    xyz1 = np.power(np.power(rx1,2) + np.power(ry1,2) + np.power(rz1,2),1.5)\n",
    "    xyz2 = np.power(np.power(rx2,2) + np.power(ry2,2) + np.power(rz2,2),1.5)\n",
    "\n",
    "    dvx1 =  GMmars  * rx12 / xy12 - GMsun * rx1 / xyz1\n",
    "    dvy1 =  GMmars  * ry12 / xy12 - GMsun * ry1 / xyz1\n",
    "    dvz1 =  GMmars  * rz12 / xy12 - GMsun * rz1 / xyz1\n",
    "    dvx2 = -GMearth * rx12 / xy12 - GMsun * rx2 / xyz2\n",
    "    dvy2 = -GMearth * ry12 / xy12 - GMsun * ry2 / xyz2\n",
    "    dvz2 = -GMearth * rz12 / xy12 - GMsun * rz2 / xyz2\n",
    "    \n",
    "    return np.array([drx1,dry1,drz1, drx2,dry2,drz2,\n",
    "                     dvx1,dvy1,dvz1, dvx2,dvy2,dvz2])\n",
    "\n",
    "def angle_between_planets(y):\n",
    "    \"\"\"\n",
    "    Input should be same form as the y variable in the earth_mars_motion function.\n",
    "    \"\"\"\n",
    "    r1 = y[0:3]\n",
    "    r2 = y[3:6]\n",
    "    return np.arccos((r1*r2).sum(axis=0) /\n",
    "                     np.sqrt((r1*r1).sum(axis=0) * (r2*r2).sum(axis=0)))"
   ]
  },
  {
   "cell_type": "code",
   "execution_count": 8,
   "metadata": {
    "collapsed": true,
    "deletable": true,
    "editable": true
   },
   "outputs": [],
   "source": [
    "def approx_angle(t,y):\n",
    "    \"\"\"\n",
    "    Input should be same form as the y variable in the earth_mars_motion function.\n",
    "    \"\"\"\n",
    "    r1 = y[0:3]\n",
    "    r2 = y[3:6]\n",
    "    result = np.arccos((r1*r2).sum(axis=0) /\n",
    "                     np.sqrt((r1*r1).sum(axis=0) * (r2*r2).sum(axis=0)))\n",
    "    min_angle = 0.02\n",
    "    \n",
    "    if result < min_angle:\n",
    "        return 0\n",
    "    else:\n",
    "        return 1"
   ]
  },
  {
   "cell_type": "code",
   "execution_count": 9,
   "metadata": {
    "collapsed": true,
    "deletable": true,
    "editable": true
   },
   "outputs": [],
   "source": [
    "def angle_between_tdep(t, ts, ys_array):\n",
    "    ts = list(ts)\n",
    "    index = ts.index(t)\n",
    "    y = ys_array[index]\n",
    "    return angle_between_planets(y)"
   ]
  },
  {
   "cell_type": "code",
   "execution_count": 10,
   "metadata": {
    "collapsed": true,
    "deletable": true,
    "editable": true
   },
   "outputs": [],
   "source": [
    "def angle_rate(t,y):\n",
    "    r1 = y[0:3]\n",
    "    r2 = y[3:6]\n",
    "    v1 = y[6:9]\n",
    "    v2 = y[9:]\n",
    "    \n",
    "    f = (r1*r2).sum(axis=0)\n",
    "    fp = (v1*r2).sum(axis=0) + (v2*r1).sum(axis=0)\n",
    "    g = ((r1*r1).sum(axis=0)*(r2*r2).sum(axis=0))**0.5\n",
    "    gp = (((v1*r1).sum(axis=0)*(r2*r2).sum(axis=0) + (v2*r2).sum(axis=0)*(r1*r1).sum(axis=0)) /\n",
    "                ((r1*r1).sum(axis=0)*(r2*r2).sum(axis=0))**0.5)\n",
    "    h = f/g\n",
    "    hp = (g*fp - f*gp)/g**2\n",
    "    rate = (-1/(1-h**2)**0.5)*hp\n",
    "    return rate\n",
    "\n",
    "angle_rate.direction = 1"
   ]
  },
  {
   "cell_type": "markdown",
   "metadata": {
    "deletable": false,
    "editable": false,
    "nbgrader": {
     "checksum": "0ef749500f1b83f1be14d1fa751d580a",
     "grade": false,
     "grade_id": "cell-14901e5a0e7949eb",
     "locked": true,
     "schema_version": 1,
     "solution": false
    }
   },
   "source": [
    "## Task 1\n",
    "Write a code that solves the equations and plots trajectories of Mars and Earth up to some $t_{max}$. The 3D plot should include at least one full orbit for each body."
   ]
  },
  {
   "cell_type": "code",
   "execution_count": 11,
   "metadata": {
    "collapsed": true,
    "deletable": false,
    "editable": true,
    "nbgrader": {
     "checksum": "136a51009c5a27d7c6459bc30809a5fe",
     "grade": true,
     "grade_id": "cell-093022246cbcd3f1",
     "locked": false,
     "points": 1,
     "schema_version": 1,
     "solution": true
    }
   },
   "outputs": [],
   "source": [
    "### TASK 1\n",
    "### Make plot here.\n",
    "# YOUR CODE HERE\n",
    "t_final = 21*365*86400 #86400 seconds in a day\n",
    "N = 1000\n",
    "ts = np.linspace(0, t_final, N)\n",
    "delta_t = t_final/N\n",
    "y_initial = np.array(rs[0] + rs[1] + vs[0] +vs[1])"
   ]
  },
  {
   "cell_type": "code",
   "execution_count": 12,
   "metadata": {
    "collapsed": false,
    "deletable": true,
    "editable": true
   },
   "outputs": [
    {
     "name": "stdout",
     "output_type": "stream",
     "text": [
      "[-4.8957151e+10 -1.4359284e+11  5.0189665e+05 -1.1742901e+11\n",
      "  2.1375285e+11  7.3558899e+09  2.7712000e+04 -9.7300000e+03\n",
      " -6.4148000e-01 -2.0333000e+04 -9.6010000e+03  3.0034000e+02]\n"
     ]
    }
   ],
   "source": [
    "print(y_initial)"
   ]
  },
  {
   "cell_type": "code",
   "execution_count": 13,
   "metadata": {
    "collapsed": true,
    "deletable": true,
    "editable": true
   },
   "outputs": [],
   "source": [
    "sol = integrate.solve_ivp(earth_mars_motion, (0, t_final), y_initial, events=(angle_rate), t_eval=ts, dense_output=True, max_step=t_final/N)\n",
    "hits = sol.t_events[0]\n",
    "hits = np.array(hits)"
   ]
  },
  {
   "cell_type": "code",
   "execution_count": 14,
   "metadata": {
    "collapsed": false,
    "deletable": true,
    "editable": true
   },
   "outputs": [
    {
     "data": {
      "text/plain": [
       "[<matplotlib.lines.Line2D at 0x11b431a2bc8>]"
      ]
     },
     "execution_count": 14,
     "metadata": {},
     "output_type": "execute_result"
    },
    {
     "data": {
      "image/png": "[encoded data removed]",
      "text/plain": [
       "<Figure size 720x432 with 1 Axes>"
      ]
     },
     "metadata": {
      "needs_background": "light"
     },
     "output_type": "display_data"
    }
   ],
   "source": [
    "ys = []\n",
    "for i in range(len(sol.y[0])):\n",
    "    y_entry = []\n",
    "    for j in range(len(sol.y)):\n",
    "        y_entry.append(sol.y[j][i])\n",
    "    ys.append(y_entry)\n",
    "ys_array = np.array(ys)\n",
    "\n",
    "timings = ts/86400\n",
    "angles = []\n",
    "for i in range(len(ys_array)):\n",
    "    angles.append(angle_between_planets(ys_array[i]))\n",
    "angles = np.array(angles)\n",
    "plt.plot(timings, angles)"
   ]
  },
  {
   "cell_type": "code",
   "execution_count": 15,
   "metadata": {
    "collapsed": false,
    "deletable": true,
    "editable": true
   },
   "outputs": [
    {
     "data": {
      "text/plain": [
       "<matplotlib.legend.Legend at 0x11b433ae988>"
      ]
     },
     "execution_count": 15,
     "metadata": {},
     "output_type": "execute_result"
    },
    {
     "data": {
      "image/png": "[encoded data removed]",
      "text/plain": [
       "<Figure size 720x432 with 1 Axes>"
      ]
     },
     "metadata": {
      "needs_background": "light"
     },
     "output_type": "display_data"
    }
   ],
   "source": [
    "z_height = 10**11\n",
    "fig = plt.figure()\n",
    "ax = fig.gca(projection='3d')\n",
    "ax.set_zlim(-z_height,z_height)\n",
    "ax.set_xlabel('x/m')\n",
    "ax.set_ylabel('y/m')\n",
    "ax.set_zlabel('z/m')\n",
    "ax.plot(sol.y[0], sol.y[1], sol.y[2], label=\"Earth\")\n",
    "ax.plot(sol.y[3], sol.y[4], sol.y[5], label=\"Mars\", color=\"red\")\n",
    "plt.legend(loc='best')"
   ]
  },
  {
   "cell_type": "markdown",
   "metadata": {
    "deletable": true,
    "editable": true
   },
   "source": [
    "BW: correct"
   ]
  },
  {
   "cell_type": "markdown",
   "metadata": {
    "deletable": false,
    "editable": false,
    "nbgrader": {
     "checksum": "0102561aea0b6df39c70e66c3ec40b29",
     "grade": false,
     "grade_id": "cell-f382f634b59a9904",
     "locked": true,
     "schema_version": 1,
     "solution": false
    }
   },
   "source": [
    "## Task 2\n",
    "Find the time of the next opposition to $\\pm10$ days. Return the time in days from $t_0$ = 2 June 2019."
   ]
  },
  {
   "cell_type": "code",
   "execution_count": 16,
   "metadata": {
    "collapsed": true,
    "deletable": false,
    "editable": true,
    "nbgrader": {
     "checksum": "46aa5e2c1c75f8ca26b0fa186fb93e59",
     "grade": false,
     "grade_id": "cell-a6eb52cac0bb3fe9",
     "locked": false,
     "schema_version": 1,
     "solution": true
    }
   },
   "outputs": [],
   "source": [
    "def time_to_next_opposition():\n",
    "    return hits[0]/86400"
   ]
  },
  {
   "cell_type": "code",
   "execution_count": 17,
   "metadata": {
    "collapsed": false,
    "deletable": true,
    "editable": true
   },
   "outputs": [
    {
     "name": "stdout",
     "output_type": "stream",
     "text": [
      "Next opposition in 500.25862794988143 days.\n",
      "Answer is 0.01 days from correct answer.\n",
      "Correct.\n"
     ]
    }
   ],
   "source": [
    "### TASK 2 marking cell\n",
    "t_opp = time_to_next_opposition()\n",
    "print (f\"Next opposition in {t_opp} days.\")\n",
    "diff = np.abs(t_opp - 500.266)\n",
    "print (f\"Answer is {diff:.2f} days from correct answer.\")\n",
    "if diff <= 10:\n",
    "    print(\"Correct.\")\n",
    "else:\n",
    "    print(\"Incorrect.\")"
   ]
  },
  {
   "cell_type": "code",
   "execution_count": 18,
   "metadata": {
    "collapsed": false,
    "deletable": false,
    "editable": false,
    "nbgrader": {
     "checksum": "88173e7cccc4dcc163474b71ba8ed4b2",
     "grade": true,
     "grade_id": "cell-875242b5a2e0eb86",
     "locked": true,
     "points": 1,
     "schema_version": 1,
     "solution": false
    }
   },
   "outputs": [
    {
     "name": "stdout",
     "output_type": "stream",
     "text": [
      "Next opposition in 500.25862794988143 days.\n"
     ]
    }
   ],
   "source": [
    "t_opp = time_to_next_opposition()\n",
    "print (f\"Next opposition in {t_opp} days.\")"
   ]
  },
  {
   "cell_type": "markdown",
   "metadata": {
    "deletable": true,
    "editable": true
   },
   "source": [
    "BW: correct"
   ]
  },
  {
   "cell_type": "markdown",
   "metadata": {
    "deletable": false,
    "editable": false,
    "nbgrader": {
     "checksum": "dc1e83a5510ba8b9ac5d59a0b5983e4e",
     "grade": false,
     "grade_id": "cell-3176c2aceac4a246",
     "locked": true,
     "schema_version": 1,
     "solution": false
    }
   },
   "source": [
    "## Task 3\n",
    "Find the times for 10 oppositions in days since 2 June 2019. The results must be accurate to 1 day. Convert this to dates (year/month/day) and print out on the screen. Do not worry if the dates come out different than the actual dates you can find online, it’s supposed to be like that.\n",
    "\n",
    "The `calculate_oppositions` function should return a list of the ten next opposition times after 2 June, 2019. The times should be returned in units of days. You may create additional functions outside this cell that are called by `calculate_oppositions`."
   ]
  },
  {
   "cell_type": "code",
   "execution_count": 19,
   "metadata": {
    "collapsed": true,
    "deletable": false,
    "editable": true,
    "nbgrader": {
     "checksum": "aac3c31dabeb5fe957d0a0668d7308fb",
     "grade": false,
     "grade_id": "cell-026db3d3375ced5e",
     "locked": false,
     "schema_version": 1,
     "solution": true
    }
   },
   "outputs": [],
   "source": [
    "def calculate_oppositions():\n",
    "    return hits/86400"
   ]
  },
  {
   "cell_type": "code",
   "execution_count": 20,
   "metadata": {
    "collapsed": false,
    "deletable": true,
    "editable": true
   },
   "outputs": [
    {
     "name": "stdout",
     "output_type": "stream",
     "text": [
      "t =  500.26 days: 2020-10-14 06:12:25.454870 (diff = 0.00 days) correct\n",
      "t = 1285.77 days: 2022-12-08 17:29:18.986118 (diff = 0.00 days) correct\n",
      "t = 2056.00 days: 2025-01-16 22:57:37.584889 (diff = 0.00 days) correct\n",
      "t = 2820.90 days: 2027-02-20 20:33:54.173106 (diff = 0.00 days) correct\n",
      "t = 3585.88 days: 2029-03-26 21:11:00.670303 (diff = 0.00 days) correct\n",
      "t = 4356.34 days: 2031-05-06 08:11:58.154825 (diff = 0.00 days) correct\n",
      "t = 5142.14 days: 2033-06-30 03:19:40.201057 (diff = 0.00 days) correct\n",
      "t = 5952.58 days: 2035-09-18 13:54:24.508830 (diff = 0.01 days) correct\n",
      "t = 6748.20 days: 2037-11-22 03:43:41.091617 (diff = 0.01 days) correct\n",
      "t = 7522.67 days: 2040-01-05 15:06:54.042103 (diff = 0.01 days) correct\n"
     ]
    }
   ],
   "source": [
    "### TASK 3 marking cell\n",
    "\n",
    "t_correct = [500.259,1285.770,2055.998,2820.898,3585.881,4356.339,5142.134,5952.572,6748.189,7522.663]\n",
    "\n",
    "opp_times  = np.asarray(calculate_oppositions())\n",
    "opp_times *= day2sec\n",
    "date0      = datetime.fromisoformat('2019-06-02')\n",
    "timestamp0 = datetime.timestamp(date0)\n",
    "\n",
    "for t, tc in zip(opp_times, t_correct):\n",
    "    diff = np.abs(t/day2sec - tc)\n",
    "    ans = ('incorrect', 'correct')[int(diff <= 1.0)]\n",
    "    print(f\"t = {t/day2sec:7.2f} days: {datetime.fromtimestamp(t+timestamp0)} (diff = {diff:.2f} days) {ans}\")"
   ]
  },
  {
   "cell_type": "code",
   "execution_count": 21,
   "metadata": {
    "collapsed": false,
    "deletable": false,
    "editable": false,
    "nbgrader": {
     "checksum": "53cb3894c30dd1060a4e7e37e44ad3d6",
     "grade": true,
     "grade_id": "cell-0672ad3cc8a98d94",
     "locked": true,
     "points": 1,
     "schema_version": 1,
     "solution": false
    },
    "scrolled": true
   },
   "outputs": [
    {
     "name": "stdout",
     "output_type": "stream",
     "text": [
      "t = 500.26 day: 2020-10-14 06:12:25.454870\n",
      "t = 1285.77 day: 2022-12-08 17:29:18.986118\n",
      "t = 2056.00 day: 2025-01-16 22:57:37.584889\n",
      "t = 2820.90 day: 2027-02-20 20:33:54.173106\n",
      "t = 3585.88 day: 2029-03-26 21:11:00.670303\n",
      "t = 4356.34 day: 2031-05-06 08:11:58.154825\n",
      "t = 5142.14 day: 2033-06-30 03:19:40.201057\n",
      "t = 5952.58 day: 2035-09-18 13:54:24.508830\n",
      "t = 6748.20 day: 2037-11-22 03:43:41.091617\n",
      "t = 7522.67 day: 2040-01-05 15:06:54.042103\n"
     ]
    }
   ],
   "source": [
    "opp_times  = calculate_oppositions()\n",
    "opp_times *= day2sec\n",
    "date0      = datetime.fromisoformat('2019-06-02')\n",
    "timestamp0 = datetime.timestamp(date0)\n",
    "for t in opp_times:\n",
    "    print(f\"t = {t/day2sec:.2f} day: {datetime.fromtimestamp(t+timestamp0)}\")"
   ]
  },
  {
   "cell_type": "markdown",
   "metadata": {
    "deletable": true,
    "editable": true
   },
   "source": [
    "BW: correct"
   ]
  },
  {
   "cell_type": "markdown",
   "metadata": {
    "deletable": false,
    "editable": false,
    "nbgrader": {
     "checksum": "493b005a19c2838b5f7d3d3838ba604c",
     "grade": false,
     "grade_id": "cell-5a214036e8da8fd8",
     "locked": true,
     "schema_version": 1,
     "solution": false
    }
   },
   "source": [
    "## Task 4\n",
    "Estimate standard errors of these times assuming that all initial positions and velocities (12 numbers) are normally distributed random numbers with means as specified in the list of parameters, and coefficients of variation (standard deviation divided by the mean) equal to 3x10$^{-5}$.\n",
    "\n",
    "The `estimate_errors` function should return two lists:\n",
    "1. a list (or array) of the mean opposition times for 10 oppositions\n",
    "2. a list (or array) of the standard deviation for each time\n",
    "\n",
    "\n",
    "Units should be in days."
   ]
  },
  {
   "cell_type": "code",
   "execution_count": 22,
   "metadata": {
    "collapsed": true,
    "deletable": true,
    "editable": true
   },
   "outputs": [],
   "source": [
    "def solve1(r_data, v_data):\n",
    "    y_initial = np.array(r_data[0] + r_data[1] + v_data[0] + v_data[1])\n",
    "    sol = integrate.solve_ivp(earth_mars_motion, (0, t_final), y_initial, events=(angle_rate), t_eval=ts, dense_output=True, max_step=t_final/N)\n",
    "    hits = sol.t_events[0]\n",
    "    hits = np.array(hits)\n",
    "    return hits/86400"
   ]
  },
  {
   "cell_type": "code",
   "execution_count": 23,
   "metadata": {
    "collapsed": true,
    "deletable": true,
    "editable": true
   },
   "outputs": [],
   "source": [
    "# positions and velocities at t=0 (2019/6/2)\n",
    "r_init = [[-4.8957151e10, -1.4359284e11, 501896.65],  # Earth\n",
    "      [-1.1742901e11, 2.1375285e11, 7.3558899e9]] # Mars (units of m)\n",
    "v_init = [[27712., -9730., -0.64148], # Earth\n",
    "      [-20333., -9601., 300.34]]  # Mars (units of m/s)"
   ]
  },
  {
   "cell_type": "code",
   "execution_count": 24,
   "metadata": {
    "collapsed": false,
    "deletable": true,
    "editable": true,
    "scrolled": true
   },
   "outputs": [
    {
     "name": "stdout",
     "output_type": "stream",
     "text": [
      "[ 500.25862795 1285.77035864 2055.99835168 2820.89854367 3585.88264665\n",
      " 4356.34164531 5142.13865973 5952.57945033 6748.19700338 7522.67145882]\n"
     ]
    }
   ],
   "source": [
    "print(solve1(r_init, v_init))"
   ]
  },
  {
   "cell_type": "code",
   "execution_count": 25,
   "metadata": {
    "collapsed": true,
    "deletable": true,
    "editable": true
   },
   "outputs": [],
   "source": [
    "def samples(mean, coeff_of_v, N):\n",
    "    sigma = abs(mean*coeff_of_v)\n",
    "    return np.random.normal(mean, sigma, N)"
   ]
  },
  {
   "cell_type": "code",
   "execution_count": 26,
   "metadata": {
    "collapsed": true,
    "deletable": true,
    "editable": true
   },
   "outputs": [],
   "source": [
    "def make_ls(data, index): #data is like all_rs\n",
    "    ls = []\n",
    "    for i in range(len(data)):\n",
    "        ls.append(data[i][index])\n",
    "    ls = np.array(ls)\n",
    "    ls = np.resize(ls, (2,3))\n",
    "    ls = ls.tolist()\n",
    "    return ls"
   ]
  },
  {
   "cell_type": "code",
   "execution_count": 30,
   "metadata": {
    "collapsed": true,
    "deletable": true,
    "editable": true
   },
   "outputs": [],
   "source": [
    "all_rs = []\n",
    "N_sets = 30 #decrease if takes too long on notable\n",
    "for part in rs:\n",
    "    for x in part:\n",
    "        xs = list(samples(x, 3*10**(-5), N_sets))\n",
    "        all_rs.append(xs)\n",
    "        \n",
    "rs_set = []\n",
    "for i in range(N_sets):\n",
    "    rs_set.append(make_ls(all_rs, i))\n",
    "    "
   ]
  },
  {
   "cell_type": "code",
   "execution_count": 31,
   "metadata": {
    "collapsed": true,
    "deletable": true,
    "editable": true
   },
   "outputs": [],
   "source": [
    "all_vs = []\n",
    "for part in vs:\n",
    "    for x in part:\n",
    "        xs = list(samples(x, 3*10**(-5), N_sets))\n",
    "        all_vs.append(xs)\n",
    "        \n",
    "vs_set = []\n",
    "for i in range(N_sets):\n",
    "    vs_set.append(make_ls(all_vs, i))\n",
    "    "
   ]
  },
  {
   "cell_type": "code",
   "execution_count": 32,
   "metadata": {
    "collapsed": false,
    "deletable": true,
    "editable": true,
    "scrolled": true
   },
   "outputs": [
    {
     "data": {
      "text/plain": [
       "'\\n#pdf says quote standard errors while notebook says quote standard deviations\\n#so done both here\\n'"
      ]
     },
     "execution_count": 32,
     "metadata": {},
     "output_type": "execute_result"
    }
   ],
   "source": [
    "opps_lists = []\n",
    "for i in range(N_sets):\n",
    "    opps = solve1(rs_set[i], vs_set[i])\n",
    "    opps_lists.append(opps)\n",
    "opps_array = np.array(opps_lists)\n",
    "mean_opps = np.mean(opps_array, axis=0)\n",
    "stdev_opps = np.std(opps_array, axis=0)\n",
    "sterror_opps = stats.sem(opps_array, axis=0)\n",
    "\n",
    "\"\"\"\n",
    "#pdf says quote standard errors while notebook says quote standard deviations\n",
    "#so done both here\n",
    "\"\"\""
   ]
  },
  {
   "cell_type": "code",
   "execution_count": 33,
   "metadata": {
    "collapsed": true,
    "deletable": false,
    "editable": true,
    "nbgrader": {
     "checksum": "98754a52d365cdddbbb11711b218236c",
     "grade": false,
     "grade_id": "cell-af6aa3d7c9d24a6f",
     "locked": false,
     "schema_version": 1,
     "solution": true
    }
   },
   "outputs": [],
   "source": [
    "def estimate_errors():\n",
    "    return mean_opps,stdev_opps #replace with sterror_opps to quote standard error\n",
    "\n",
    "#when validating error appears here but in notebook variables seem to be globally defined and it runs fine"
   ]
  },
  {
   "cell_type": "code",
   "execution_count": 34,
   "metadata": {
    "collapsed": false,
    "deletable": true,
    "editable": true
   },
   "outputs": [
    {
     "name": "stdout",
     "output_type": "stream",
     "text": [
      "0:   500.26 +- 0.16 days. Mean diff: 0.00 days (correct), Std diff: 1.38 (correct)\n",
      "1:  1285.78 +- 0.31 days. Mean diff: 0.01 days (correct), Std diff: 1.33 (correct)\n",
      "2:  2056.01 +- 0.42 days. Mean diff: 0.01 days (correct), Std diff: 1.31 (correct)\n",
      "3:  2820.92 +- 0.56 days. Mean diff: 0.02 days (correct), Std diff: 1.30 (correct)\n",
      "4:  3585.91 +- 0.73 days. Mean diff: 0.03 days (correct), Std diff: 1.30 (correct)\n",
      "5:  4356.37 +- 1.01 days. Mean diff: 0.03 days (correct), Std diff: 1.30 (correct)\n",
      "6:  5142.15 +- 1.59 days. Mean diff: 0.02 days (correct), Std diff: 1.31 (correct)\n",
      "7:  5952.57 +- 2.09 days. Mean diff: 0.00 days (correct), Std diff: 1.31 (correct)\n",
      "8:  6748.22 +- 1.72 days. Mean diff: 0.03 days (correct), Std diff: 1.31 (correct)\n",
      "9:  7522.71 +- 1.59 days. Mean diff: 0.05 days (correct), Std diff: 1.31 (correct)\n"
     ]
    }
   ],
   "source": [
    "### TASK 4 marking cell\n",
    "\n",
    "tmean, tstd = estimate_errors()\n",
    "\n",
    "tstd_correct = [0.116,0.230,0.323,0.427,0.562,0.777,1.218,1.594,1.312,1.215]\n",
    "\n",
    "for i in range(10):\n",
    "    diffm = np.abs(tmean[i] - t_correct[i])\n",
    "    ansm = ('incorrect', 'correct')[int(diffm <= 1.0)]\n",
    "    diffs = tstd[i] / tstd_correct[i]\n",
    "    anss = ('incorrect', 'correct')[int(diffs >= 0.5 and diffs <= 1.5)]\n",
    "    print(f\"{i}: {tmean[i]:8.2f} +- {tstd[i]:4.2f} days. \" +\n",
    "          f\"Mean diff: {diffm:.2f} days ({ansm}), Std diff: {diffs:.2f} ({anss})\")"
   ]
  },
  {
   "cell_type": "code",
   "execution_count": 97,
   "metadata": {
    "collapsed": false,
    "deletable": false,
    "editable": false,
    "nbgrader": {
     "checksum": "72fe85f8b1609e4d65aec5e96547847b",
     "grade": true,
     "grade_id": "cell-fbdd4bcaf0c1617e",
     "locked": true,
     "points": 1,
     "schema_version": 1,
     "solution": false
    }
   },
   "outputs": [
    {
     "name": "stdout",
     "output_type": "stream",
     "text": [
      "0: 500.26 +- 0.14 days.\n",
      "1: 1285.76 +- 0.29 days.\n",
      "2: 2055.98 +- 0.42 days.\n",
      "3: 2820.87 +- 0.55 days.\n",
      "4: 3585.85 +- 0.72 days.\n",
      "5: 4356.31 +- 0.99 days.\n",
      "6: 5142.12 +- 1.50 days.\n",
      "7: 5952.56 +- 1.95 days.\n",
      "8: 6748.15 +- 1.65 days.\n",
      "9: 7522.61 +- 1.56 days.\n"
     ]
    }
   ],
   "source": [
    "tmean, tstd = estimate_errors()\n",
    "for i in range(10):\n",
    "    print(f\"{i}: {tmean[i]:.2f} +- {tstd[i]:.2f} days.\")"
   ]
  },
  {
   "cell_type": "markdown",
   "metadata": {
    "deletable": true,
    "editable": true
   },
   "source": [
    "BW: correct but maybe too many samples (20-100 would do, I changed to 30)"
   ]
  },
  {
   "cell_type": "markdown",
   "metadata": {
    "deletable": false,
    "editable": false,
    "nbgrader": {
     "checksum": "23c697ea6d8c78da7a2fd588967588e5",
     "grade": false,
     "grade_id": "cell-4b0af70f7b5d0abe",
     "locked": true,
     "schema_version": 1,
     "solution": false
    }
   },
   "source": [
    "## Task 5\n",
    "Use historical positions of Earth and Mars (boundary value problem) to improve the accuracy of your prediction. What are the standard errors now?\n",
    "\n",
    "The `estimate_errors_improved` function should return two lists:\n",
    "1. a list (or array) of the mean opposition times for 10 oppositions\n",
    "2. a list (or array) of the standard deviation for each time\n",
    "\n",
    "Units should be in days."
   ]
  },
  {
   "cell_type": "code",
   "execution_count": 35,
   "metadata": {
    "collapsed": true,
    "deletable": true,
    "editable": true
   },
   "outputs": [],
   "source": [
    "def bc(ya, yb):\n",
    "    bc = []\n",
    "    bc += list(np.array(ya[0:3]) - np.array(rspast[0]))\n",
    "    bc += list(np.array(ya[3:6]) - np.array(rspast[1]))\n",
    "    bc += list(np.array(yb[0:3]) - np.array(rs[0]))\n",
    "    bc += list(np.array(yb[3:6]) - np.array(rs[1]))\n",
    "    return np.array(bc)"
   ]
  },
  {
   "cell_type": "code",
   "execution_count": 36,
   "metadata": {
    "collapsed": true,
    "deletable": true,
    "editable": true
   },
   "outputs": [],
   "source": [
    "def solve2(x, y):\n",
    "    sol = integrate.solve_bvp(earth_mars_motion, bc, x, y, verbose=2)\n",
    "    return sol"
   ]
  },
  {
   "cell_type": "code",
   "execution_count": 100,
   "metadata": {
    "collapsed": false,
    "deletable": true,
    "editable": true
   },
   "outputs": [
    {
     "data": {
      "text/plain": [
       "'\\nvspast = [[8530., 25333., 0],\\n          [23333., 9601., 0]]\\ny_initial_new = np.array(rspast[0] + rspast[1] + vspast[0] +vspast[1])\\nt_guess = 1000*86400\\nNum = 1000\\nts_new = np.linspace(0, t_guess, Num)\\nsol_guess = integrate.solve_ivp(earth_mars_motion, (0, t_guess), y_initial_new, t_eval=ts_new, dense_output=True, max_step=t_guess/Num)\\n'"
      ]
     },
     "execution_count": 100,
     "metadata": {},
     "output_type": "execute_result"
    }
   ],
   "source": [
    "\"\"\"\n",
    "vspast = [[8530., 25333., 0],\n",
    "          [23333., 9601., 0]]\n",
    "y_initial_new = np.array(rspast[0] + rspast[1] + vspast[0] +vspast[1])\n",
    "t_guess = 1000*86400\n",
    "Num = 1000\n",
    "ts_new = np.linspace(0, t_guess, Num)\n",
    "sol_guess = integrate.solve_ivp(earth_mars_motion, (0, t_guess), y_initial_new, t_eval=ts_new, dense_output=True, max_step=t_guess/Num)\n",
    "\"\"\""
   ]
  },
  {
   "cell_type": "code",
   "execution_count": 101,
   "metadata": {
    "collapsed": true,
    "deletable": true,
    "editable": true
   },
   "outputs": [],
   "source": [
    "#vs_rev = [[-27712., 9730., 0.64148],\n",
    "#      [20333., 9601., -300.34]]"
   ]
  },
  {
   "cell_type": "code",
   "execution_count": 37,
   "metadata": {
    "collapsed": true,
    "deletable": true,
    "editable": true
   },
   "outputs": [],
   "source": [
    "y_initial_new = np.array(rs[0] + rs[1] + vs[0] + vs[1])\n",
    "t_guess = -1*1000*86400\n",
    "Num = 1000\n",
    "ts_new = np.linspace(0, t_guess, Num)\n",
    "sol_guess = integrate.solve_ivp(earth_mars_motion, (0, t_guess), y_initial_new, t_eval=ts_new, dense_output=True, max_step=abs(t_guess/Num))"
   ]
  },
  {
   "cell_type": "code",
   "execution_count": null,
   "metadata": {
    "collapsed": true,
    "deletable": true,
    "editable": true
   },
   "outputs": [],
   "source": []
  },
  {
   "cell_type": "code",
   "execution_count": null,
   "metadata": {
    "collapsed": true,
    "deletable": true,
    "editable": true
   },
   "outputs": [],
   "source": []
  },
  {
   "cell_type": "code",
   "execution_count": 38,
   "metadata": {
    "collapsed": false,
    "deletable": true,
    "editable": true
   },
   "outputs": [
    {
     "name": "stdout",
     "output_type": "stream",
     "text": [
      "[[-4.89571510e+10 -5.13467910e+10 -5.37218271e+10 ...  1.45778888e+11\n",
      "   1.45140586e+11  1.44460297e+11]\n",
      " [-1.43592840e+11 -1.42730953e+11 -1.41828470e+11 ... -3.85582544e+10\n",
      "  -4.10326757e+10 -4.34952267e+10]\n",
      " [ 5.01896650e+05  5.57302012e+05  6.12548849e+05 ... -3.33541057e+06\n",
      "  -3.33092664e+06 -3.32547881e+06]\n",
      " ...\n",
      " [-2.03330000e+04 -2.04251574e+04 -2.05160530e+04 ...  2.10918622e+04\n",
      "   2.12349034e+04  2.13754395e+04]\n",
      " [-9.60100000e+03 -9.43165426e+03 -9.26141051e+03 ...  1.54692468e+04\n",
      "   1.52509460e+04  1.50313429e+04]\n",
      " [ 3.00340000e+02  3.06146134e+02  3.11939943e+02 ... -1.96465527e+02\n",
      "  -2.04547238e+02 -2.12594441e+02]]\n"
     ]
    }
   ],
   "source": [
    "x = np.linspace(0, 1000*3600*24, 1000)\n",
    "y = sol_guess.y\n",
    "print(y)"
   ]
  },
  {
   "cell_type": "code",
   "execution_count": 39,
   "metadata": {
    "collapsed": false,
    "deletable": true,
    "editable": true
   },
   "outputs": [
    {
     "name": "stdout",
     "output_type": "stream",
     "text": [
      "   Iteration    Max residual  Max BC residual  Total nodes    Nodes added  \n",
      "       1          4.15e+03       1.20e+11         1000          (1998)     \n",
      "Number of nodes is exceeded after iteration 1. \n",
      "Maximum relative residual: 4.15e+03 \n",
      "Maximum boundary residual: 1.20e+11\n"
     ]
    },
    {
     "data": {
      "text/plain": [
       "<matplotlib.legend.Legend at 0x11b434d7648>"
      ]
     },
     "execution_count": 39,
     "metadata": {},
     "output_type": "execute_result"
    },
    {
     "data": {
      "image/png": "[encoded data removed]",
      "text/plain": [
       "<Figure size 720x432 with 1 Axes>"
      ]
     },
     "metadata": {
      "needs_background": "light"
     },
     "output_type": "display_data"
    }
   ],
   "source": [
    "#guessed solution as initial value problem at t=0 going back to t=-1000 days\n",
    "\n",
    "solb = solve2(x, y)\n",
    "\n",
    "z_height = 10**11\n",
    "fig = plt.figure()\n",
    "ax = fig.gca(projection='3d')\n",
    "ax.set_zlim(-z_height,z_height)\n",
    "ax.set_xlabel('x/m')\n",
    "ax.set_ylabel('y/m')\n",
    "ax.set_zlabel('z/m')\n",
    "ax.plot(solb.y[0], solb.y[1], solb.y[2], label=\"Earth\")\n",
    "ax.plot(solb.y[3], solb.y[4], solb.y[5], label=\"Mars\", color=\"red\")\n",
    "plt.legend(loc='best')"
   ]
  },
  {
   "cell_type": "code",
   "execution_count": 40,
   "metadata": {
    "collapsed": true,
    "deletable": false,
    "editable": true,
    "nbgrader": {
     "checksum": "ede3729610a0ab089f8580f67298caff",
     "grade": false,
     "grade_id": "cell-cf1432c5d1c9b760",
     "locked": false,
     "schema_version": 1,
     "solution": true
    }
   },
   "outputs": [],
   "source": [
    "def estimate_errors_improved():\n",
    "    return mean_opps,sterror_opps"
   ]
  },
  {
   "cell_type": "code",
   "execution_count": 41,
   "metadata": {
    "collapsed": false,
    "deletable": true,
    "editable": true,
    "nbgrader": {
     "grade": true,
     "grade_id": "cell-cfa3d26eaed2c199",
     "locked": true,
     "points": 1,
     "schema_version": 1,
     "solution": false
    }
   },
   "outputs": [
    {
     "name": "stdout",
     "output_type": "stream",
     "text": [
      "0:   500.26 +- 0.03 days. Mean diff: 0.08 days (correct), Std diff: 0.30 (incorrect)\n",
      "1:  1285.78 +- 0.06 days. Mean diff: 0.53 days (correct), Std diff: 0.66 (correct)\n",
      "2:  2056.01 +- 0.08 days. Mean diff: 0.92 days (correct), Std diff: 0.82 (correct)\n",
      "3:  2820.92 +- 0.10 days. Mean diff: 1.27 days (incorrect), Std diff: 0.83 (correct)\n",
      "4:  3585.91 +- 0.14 days. Mean diff: 1.61 days (incorrect), Std diff: 0.75 (correct)\n",
      "5:  4356.37 +- 0.19 days. Mean diff: 1.93 days (incorrect), Std diff: 0.65 (correct)\n",
      "6:  5142.15 +- 0.30 days. Mean diff: 2.21 days (incorrect), Std diff: 0.56 (correct)\n",
      "7:  5952.57 +- 0.39 days. Mean diff: 2.45 days (incorrect), Std diff: 0.57 (correct)\n",
      "8:  6748.22 +- 0.32 days. Mean diff: 2.82 days (incorrect), Std diff: 0.69 (correct)\n",
      "9:  7522.71 +- 0.30 days. Mean diff: 3.20 days (incorrect), Std diff: 0.79 (correct)\n"
     ]
    }
   ],
   "source": [
    "### TASK 5 marking cell\n",
    "\n",
    "tmean, tstd = estimate_errors_improved()\n",
    "\n",
    "# t_exact are times from the real world (not meant to agree with t_correct exactly)\n",
    "t_exact        = [500.114,1285.22, 2055.11, 2819.71, 3584.41, 4354.55, 5139.97, 5950.,   6745.4,  7519.63]\n",
    "t_correct_impr = [500.175,1285.247,2055.094,2819.645,3584.298,4354.439,5139.941,5950.123,6745.394,7519.512]\n",
    "tstd_correct_impr = [0.098,0.086,0.096,0.125,0.180,0.288,0.526,0.683,0.464,0.372]\n",
    "\n",
    "for i in range(10):\n",
    "    diffm = np.abs(tmean[i] - t_correct_impr[i])\n",
    "    ansm = ('incorrect', 'correct')[int(diffm <= 1.0)]\n",
    "    diffs = tstd[i] / tstd_correct_impr[i]\n",
    "    anss = ('incorrect', 'correct')[int(diffs >= 0.5 and diffs <= 1.5)]\n",
    "    print(f\"{i}: {tmean[i]:8.2f} +- {tstd[i]:4.2f} days. \" +\n",
    "          f\"Mean diff: {diffm:.2f} days ({ansm}), Std diff: {diffs:.2f} ({anss})\")"
   ]
  },
  {
   "cell_type": "code",
   "execution_count": 106,
   "metadata": {
    "collapsed": false,
    "deletable": false,
    "editable": false,
    "nbgrader": {
     "checksum": "7f54774c13f6cc284dd750ca764b5c02",
     "grade": true,
     "grade_id": "cell-cfa3d26eaed2c199",
     "locked": true,
     "points": 1,
     "schema_version": 1,
     "solution": false
    }
   },
   "outputs": [
    {
     "name": "stdout",
     "output_type": "stream",
     "text": [
      "0: 500.26 +- 0.01 days.\n",
      "1: 1285.76 +- 0.03 days.\n",
      "2: 2055.98 +- 0.04 days.\n",
      "3: 2820.87 +- 0.06 days.\n",
      "4: 3585.85 +- 0.07 days.\n",
      "5: 4356.31 +- 0.10 days.\n",
      "6: 5142.12 +- 0.15 days.\n",
      "7: 5952.56 +- 0.20 days.\n",
      "8: 6748.15 +- 0.17 days.\n",
      "9: 7522.61 +- 0.16 days.\n"
     ]
    }
   ],
   "source": [
    "tmean, tstd = estimate_errors_improved()\n",
    "\n",
    "for i in range(10):\n",
    "    print(f\"{i}: {tmean[i]:.2f} +- {tstd[i]:.2f} days.\")"
   ]
  },
  {
   "cell_type": "markdown",
   "metadata": {
    "deletable": true,
    "editable": true
   },
   "source": [
    "BW: incorrect values - I am not sure what you tried to do here."
   ]
  },
  {
   "cell_type": "markdown",
   "metadata": {
    "deletable": false,
    "editable": false,
    "nbgrader": {
     "checksum": "aa5cc52310cdc375a194d9b40d4ffd89",
     "grade": false,
     "grade_id": "cell-71317d4569ef2709",
     "locked": true,
     "schema_version": 1,
     "solution": false
    }
   },
   "source": [
    "##  Task 6\n",
    "Using the methods from Task 5, is there a better time point in the last 1000 days to get historical data for increasing the accuracy? Find such time t in the past 1000 days (-1000<$t$<0 days, where $t$=0 corresponds to 2 June 2019) which would yield a maximum error (std. deviation) of less than 0.2 days for each of the 10 oppositions.\n",
    "\n",
    "$t$ should be a negative number, accurate to +/- 50 days.\n",
    "\n",
    "The code for task 6 can take any form you like."
   ]
  },
  {
   "cell_type": "code",
   "execution_count": 107,
   "metadata": {
    "collapsed": false,
    "deletable": false,
    "editable": true,
    "nbgrader": {
     "checksum": "14f59587789e35c4523a0369b2a8e4a4",
     "grade": true,
     "grade_id": "cell-1e9f10640b0ae3b8",
     "locked": false,
     "points": 1,
     "schema_version": 1,
     "solution": true
    }
   },
   "outputs": [
    {
     "name": "stdout",
     "output_type": "stream",
     "text": [
      "0: 500.26 +- 0.01 days.\n",
      "1: 1285.76 +- 0.03 days.\n",
      "2: 2055.98 +- 0.04 days.\n",
      "3: 2820.87 +- 0.06 days.\n",
      "4: 3585.85 +- 0.07 days.\n",
      "5: 4356.31 +- 0.10 days.\n",
      "6: 5142.12 +- 0.15 days.\n",
      "7: 5952.56 +- 0.20 days.\n",
      "8: 6748.15 +- 0.17 days.\n",
      "9: 7522.61 +- 0.16 days.\n"
     ]
    }
   ],
   "source": [
    "for i in range(10):\n",
    "    print(f\"{i}: {tmean[i]:.2f} +- {tstd[i]:.2f} days.\")"
   ]
  },
  {
   "cell_type": "code",
   "execution_count": null,
   "metadata": {
    "collapsed": true,
    "deletable": true,
    "editable": true
   },
   "outputs": [],
   "source": []
  }
 ],
 "metadata": {
  "kernelspec": {
   "display_name": "Python 3",
   "language": "python",
   "name": "python3"
  },
  "language_info": {
   "codemirror_mode": {
    "name": "ipython",
    "version": 3
   },
   "file_extension": ".py",
   "mimetype": "text/x-python",
   "name": "python",
   "nbconvert_exporter": "python",
   "pygments_lexer": "ipython3",
   "version": "3.5.2"
  }
 },
 "nbformat": 4,
 "nbformat_minor": 2
}
